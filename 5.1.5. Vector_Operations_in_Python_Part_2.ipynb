{
  "nbformat": 4,
  "nbformat_minor": 0,
  "metadata": {
    "colab": {
      "provenance": [],
      "authorship_tag": "ABX9TyMOS3nXxsq1SEguQ2/a2x/W",
      "include_colab_link": true
    },
    "kernelspec": {
      "name": "python3",
      "display_name": "Python 3"
    },
    "language_info": {
      "name": "python"
    }
  },
  "cells": [
    {
      "cell_type": "markdown",
      "metadata": {
        "id": "view-in-github",
        "colab_type": "text"
      },
      "source": [
        "<a href=\"https://colab.research.google.com/github/kanakesh2006/60hours-of-Machine-Learning-Part-2/blob/main/5.1.5.%20Vector_Operations_in_Python_Part_2.ipynb\" target=\"_parent\"><img src=\"https://colab.research.google.com/assets/colab-badge.svg\" alt=\"Open In Colab\"/></a>"
      ]
    },
    {
      "cell_type": "code",
      "execution_count": 1,
      "metadata": {
        "id": "L4THWnzGzQEO"
      },
      "outputs": [],
      "source": [
        "import numpy as np"
      ]
    },
    {
      "cell_type": "markdown",
      "source": [
        "Dot Product of 2 vectors"
      ],
      "metadata": {
        "id": "WiFTnlBF05JB"
      }
    },
    {
      "cell_type": "code",
      "source": [
        "a = np.array([2, 3])\n",
        "b = np.array([4, 4])\n",
        "\n",
        "a_dot_b = np.dot(a, b)\n",
        "print(a_dot_b)"
      ],
      "metadata": {
        "colab": {
          "base_uri": "https://localhost:8080/"
        },
        "id": "eUNXX7TJzk_A",
        "outputId": "88c8fa72-2160-4166-a87f-c46047a08fa1"
      },
      "execution_count": 2,
      "outputs": [
        {
          "output_type": "stream",
          "name": "stdout",
          "text": [
            "20\n"
          ]
        }
      ]
    },
    {
      "cell_type": "code",
      "source": [
        "c = np.array([40, 20, 35])\n",
        "d = np.array([53, 24, 60])\n",
        "\n",
        "c_dot_d = np.dot(c, d)\n",
        "print(c_dot_d)"
      ],
      "metadata": {
        "colab": {
          "base_uri": "https://localhost:8080/"
        },
        "id": "CwJifTOn1neF",
        "outputId": "4e2971aa-6534-40a3-a361-96cd8fb5be06"
      },
      "execution_count": 3,
      "outputs": [
        {
          "output_type": "stream",
          "name": "stdout",
          "text": [
            "4700\n"
          ]
        }
      ]
    },
    {
      "cell_type": "markdown",
      "source": [
        "Cross Product of 2 vectors"
      ],
      "metadata": {
        "id": "GLydc3aw2FP7"
      }
    },
    {
      "cell_type": "code",
      "source": [
        "a = np.array([2, 3])\n",
        "b = np.array([4, 4])\n",
        "\n",
        "a_cross_b = np.cross(a, b)\n",
        "print(a_cross_b)"
      ],
      "metadata": {
        "colab": {
          "base_uri": "https://localhost:8080/"
        },
        "id": "2JKhuoDu13ec",
        "outputId": "5330338f-045d-4461-9e36-0bcf6a08b566"
      },
      "execution_count": 4,
      "outputs": [
        {
          "output_type": "stream",
          "name": "stdout",
          "text": [
            "-4\n"
          ]
        },
        {
          "output_type": "stream",
          "name": "stderr",
          "text": [
            "<ipython-input-4-9fa3403984eb>:4: DeprecationWarning: Arrays of 2-dimensional vectors are deprecated. Use arrays of 3-dimensional vectors instead. (deprecated in NumPy 2.0)\n",
            "  a_cross_b = np.cross(a, b)\n"
          ]
        }
      ]
    },
    {
      "cell_type": "code",
      "source": [
        "c = np.array([40, 20, 35])\n",
        "d = np.array([53, 24, 60])\n",
        "\n",
        "c_cross_d = np.cross(c, d)\n",
        "print(c_cross_d)"
      ],
      "metadata": {
        "colab": {
          "base_uri": "https://localhost:8080/"
        },
        "id": "ufx5NTAm2Yn6",
        "outputId": "bd723ccb-413c-4e97-f590-b7f210d0fb74"
      },
      "execution_count": 5,
      "outputs": [
        {
          "output_type": "stream",
          "name": "stdout",
          "text": [
            "[ 360 -545 -100]\n"
          ]
        }
      ]
    },
    {
      "cell_type": "markdown",
      "source": [
        "Projection of \"a\"vector on \"v\"vector"
      ],
      "metadata": {
        "id": "MZQ317ve2uXZ"
      }
    },
    {
      "cell_type": "code",
      "source": [
        "a = np.array([2, 5])\n",
        "\n",
        "v = np.array([8, 6])\n",
        "\n",
        "# magnitude of 'v' vector\n",
        "magnitude_of_v = np.sqrt(sum(v**2))\n",
        "\n",
        "projection = (np.dot(a, v)/magnitude_of_v**2) * v\n",
        "\n",
        "print(\"Projection of 'A' vector on 'V' vector : \", projection)"
      ],
      "metadata": {
        "colab": {
          "base_uri": "https://localhost:8080/"
        },
        "id": "SrZiQceo200J",
        "outputId": "99481be3-3f9d-4932-9d64-580deac1b726"
      },
      "execution_count": 8,
      "outputs": [
        {
          "output_type": "stream",
          "name": "stdout",
          "text": [
            "Projection of 'A' vector on 'V' vector :  [3.68 2.76]\n"
          ]
        }
      ]
    }
  ]
}